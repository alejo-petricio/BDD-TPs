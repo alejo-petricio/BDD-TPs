{
  "cells": [
    {
      "cell_type": "markdown",
      "source": [
        "# Código de inicialización\n",
        "Este código permite inicializar las bibliotecas para usar SQLite en la máquina virtual de Google Colab. El código además elimina cualquier dato almacenado anteriormente en el archvio `ejemplos.db`. Es recomendable volver a correr el código cada vez que se comience con la resolución de un nuevo ejercicio."
      ],
      "metadata": {
        "id": "QuMn1Lbbdz7p"
      },
      "id": "QuMn1Lbbdz7p"
    },
    {
      "cell_type": "code",
      "execution_count": null,
      "metadata": {
        "id": "IFHmq0oNKLZQ",
        "outputId": "949f2234-604c-42a8-bdbd-d04082abce1c",
        "colab": {
          "base_uri": "https://localhost:8080/"
        }
      },
      "outputs": [
        {
          "output_type": "stream",
          "name": "stdout",
          "text": [
            "Collecting pymysql\n",
            "  Downloading PyMySQL-1.1.1-py3-none-any.whl.metadata (4.4 kB)\n",
            "Downloading PyMySQL-1.1.1-py3-none-any.whl (44 kB)\n",
            "\u001b[2K   \u001b[90m━━━━━━━━━━━━━━━━━━━━━━━━━━━━━━━━━━━━━━━━\u001b[0m \u001b[32m45.0/45.0 kB\u001b[0m \u001b[31m778.7 kB/s\u001b[0m eta \u001b[36m0:00:00\u001b[0m\n",
            "\u001b[?25hInstalling collected packages: pymysql\n",
            "Successfully installed pymysql-1.1.1\n"
          ]
        }
      ],
      "source": [
        "!pip install pymysql\n",
        "%load_ext sql\n",
        "!rm -rf ejemplos.db\n",
        "%sql sqlite:///ejemplos.db"
      ],
      "id": "IFHmq0oNKLZQ"
    },
    {
      "cell_type": "markdown",
      "id": "4bfd6149",
      "metadata": {
        "id": "4bfd6149"
      },
      "source": [
        "# TP2: Ejercicios de SQL"
      ]
    },
    {
      "cell_type": "markdown",
      "id": "75f13c80",
      "metadata": {
        "id": "75f13c80"
      },
      "source": [
        "\n",
        "## EJERCICIO 1:  Base de datos para un club náutico\n",
        "\n",
        "### Descripción:\n",
        "Se quiere diseñar una base de datos relacional para gestionar los datos de los socios de un club náutico. De cada socio se guardan los datos personales y la información de los barcos que posee:\n",
        "- Número de matrícula, nombre, número de amarre, cuota.\n",
        "\n",
        "Además, se almacena información sobre las salidas realizadas por cada barco:\n",
        "- Fecha y hora de salida, destino y datos del patrón (que no tiene que ser el propietario ni un socio del club).\n",
        "\n",
        "### Esquema propuesto:\n",
        "- Tabla `Socios`: Almacena la información de los socios del club.\n",
        "- Tabla `Barcos`: Almacena la información de los barcos y sus propietarios.\n",
        "- Tabla `Salidas`: Almacena la información de las salidas realizadas por los barcos.\n",
        "\n",
        "### Esquema de tablas\n",
        "Este sería el esquema de tablas en lenguaje DBML\n",
        "\n",
        "```dbml\n",
        "Table Socios {\n",
        "    id_socio INT [pk]\n",
        "    nombre VARCHAR(100)\n",
        "    direccion VARCHAR(255)\n",
        "}\n",
        "\n",
        "Table Barcos {\n",
        "    matricula VARCHAR(20) [pk]\n",
        "    nombre VARCHAR(100)\n",
        "    numero_amarre INT\n",
        "    cuota DECIMAL(10, 2)\n",
        "    id_socio INT [ref: > Socios.id_socio]\n",
        "}\n",
        "\n",
        "Table Salidas {\n",
        "    id_salida INT [pk]\n",
        "    matricula VARCHAR(20) [ref: > Barcos.matricula]\n",
        "    fecha_salida DATE\n",
        "    hora_salida TIME\n",
        "    destino VARCHAR(100)\n",
        "    patron_nombre VARCHAR(100)\n",
        "    patron_direccion VARCHAR(255)\n",
        "}\n",
        "```\n",
        "\n",
        "### Escriba abajo el código SQL necesario para crear las tablas:\n",
        "\n"
      ]
    },
    {
      "cell_type": "code",
      "source": [
        "%%sql\n",
        "CREATE TABLE socios (\n",
        "  id_socio INT,\n",
        "  nombre VARCHAR(100),\n",
        "  direccion VARCHAR(255),\n",
        "  PRIMARY KEY (id_socio)\n",
        ");\n",
        "\n",
        "CREATE TABLE barcos (\n",
        "  matricula VARCHAR(20),\n",
        "  nombre VARCHAR(100),\n",
        "  numero_amarre INT,\n",
        "  cuota DECIMAL(10, 2),\n",
        "  id_socio INT,\n",
        "  PRIMARY KEY (matricula),\n",
        "  FOREIGN KEY (id_socio) REFERENCES socios\n",
        ");\n",
        "\n",
        "CREATE TABLE salidas (\n",
        "  id_salida INT PRIMARY KEY,\n",
        "  matricula VARCHAR(20),\n",
        "  fecha_salida DATE,\n",
        "  hora_salida TIME,\n",
        "  destino VARCHAR(100),\n",
        "  patron_nombre VARCHAR(100),\n",
        "  patron_direccion VARCHAR(255),\n",
        "  FOREIGN KEY (matricula) REFERENCES barcos\n",
        ");"
      ],
      "metadata": {
        "id": "WQJ1ZlDikHxc",
        "outputId": "0c3d957d-4ed3-45f0-e177-19857753f45a",
        "colab": {
          "base_uri": "https://localhost:8080/"
        }
      },
      "id": "WQJ1ZlDikHxc",
      "execution_count": null,
      "outputs": [
        {
          "output_type": "stream",
          "name": "stdout",
          "text": [
            " * sqlite:///ejemplos.db\n",
            "Done.\n",
            "Done.\n",
            "Done.\n"
          ]
        },
        {
          "output_type": "execute_result",
          "data": {
            "text/plain": [
              "[]"
            ]
          },
          "metadata": {},
          "execution_count": 6
        }
      ]
    },
    {
      "cell_type": "markdown",
      "source": [
        "El código SQL de abajo le permite popular (es decir, rellenar) las tablas con datos."
      ],
      "metadata": {
        "id": "CvWQCFgMw6Aw"
      },
      "id": "CvWQCFgMw6Aw"
    },
    {
      "cell_type": "code",
      "source": [
        "%%sql\n",
        "-- Populación de las tablas\n",
        "INSERT INTO Socios (id_socio, nombre, direccion)\n",
        "VALUES\n",
        "(1, 'Juan Pérez', 'Calle Mayor 1, Madrid'),\n",
        "(2, 'Ana García', 'Calle Luna 5, Barcelona'),\n",
        "(3, 'Luis Fernández', 'Avenida del Sol 10, Valencia'),\n",
        "(4, 'Laura Sánchez', 'Plaza del Mar 3, Alicante'),\n",
        "(5, 'Carlos López', 'Calle Río 8, Sevilla'),\n",
        "(6, 'Marta Díaz', 'Calle de la Sierra 12, Zaragoza'),\n",
        "(7, 'Pedro Gómez', 'Calle Nueva 20, Bilbao'),\n",
        "(8, 'Lucía Jiménez', 'Calle Real 30, Madrid'),\n",
        "(9, 'María Torres', 'Calle Verde 15, Málaga'),\n",
        "(10, 'Fernando Martín', 'Calle Azul 25, Murcia');\n",
        "\n",
        "INSERT INTO Barcos (matricula, nombre, numero_amarre, cuota, id_socio)\n",
        "VALUES\n",
        "('ABC123', 'El Viento', 12, 600.50, 1),\n",
        "('DEF456', 'La Brisa', 8, 450.00, 2),\n",
        "('GHI789', 'El Sol', 15, 700.00, 3),\n",
        "('JKL012', 'El Mar', 10, 550.75, 4),\n",
        "('MNO345', 'La Luna', 18, 620.30, 5),\n",
        "('PQR678', 'El Horizonte', 20, 780.90, 6),\n",
        "('STU901', 'El Amanecer', 5, 400.00, 7),\n",
        "('VWX234', 'La Estrella', 7, 520.50, 8),\n",
        "('YZA567', 'La Marea', 14, 480.75, 9),\n",
        "('BCD890', 'El Océano', 6, 630.80, 10);\n",
        "\n",
        "INSERT INTO Salidas (id_salida, matricula, fecha_salida, hora_salida, destino, patron_nombre, patron_direccion)\n",
        "VALUES\n",
        "(1, 'ABC123', '2023-07-15', '10:30:00', 'Mallorca', 'Patrón 1', 'Calle de la Playa 1, Palma'),\n",
        "(2, 'DEF456', '2023-07-20', '09:00:00', 'Ibiza', 'Patrón 2', 'Avenida del Puerto 3, Valencia'),\n",
        "(3, 'GHI789', '2023-07-22', '08:45:00', 'Menorca', 'Patrón 3', 'Calle de la Costa 10, Alicante'),\n",
        "(4, 'JKL012', '2023-07-25', '11:15:00', 'Mallorca', 'Patrón 4', 'Plaza del Faro 5, Barcelona'),\n",
        "(5, 'MNO345', '2023-08-01', '14:00:00', 'Formentera', 'Patrón 5', 'Calle del Puerto 20, Ibiza'),\n",
        "(6, 'PQR678', '2023-08-05', '07:30:00', 'Mallorca', 'Patrón 6', 'Calle de las Olas 15, Palma'),\n",
        "(7, 'STU901', '2023-08-10', '12:00:00', 'Ibiza', 'Patrón 7', 'Avenida de la Marina 7, Barcelona'),\n",
        "(8, 'VWX234', '2023-08-12', '09:30:00', 'Cabrera', 'Patrón 8', 'Calle del Mar 12, Alicante'),\n",
        "(9, 'YZA567', '2023-08-15', '10:00:00', 'Formentera', 'Patrón 9', 'Calle del Sol 4, Ibiza'),\n",
        "(10, 'BCD890', '2023-08-20', '08:00:00', 'Menorca', 'Patrón 10', 'Plaza del Faro 2, Palma');\n"
      ],
      "metadata": {
        "id": "mGeEPoC8luIN",
        "outputId": "3aa0e3c7-d36a-4df9-b04b-3967eeea14a2",
        "colab": {
          "base_uri": "https://localhost:8080/"
        }
      },
      "id": "mGeEPoC8luIN",
      "execution_count": null,
      "outputs": [
        {
          "output_type": "stream",
          "name": "stdout",
          "text": [
            " * sqlite:///ejemplos.db\n",
            "(sqlite3.IntegrityError) UNIQUE constraint failed: socios.id_socio\n",
            "[SQL: -- Populación de las tablas\n",
            "INSERT INTO Socios (id_socio, nombre, direccion)\n",
            "VALUES\n",
            "(1, 'Juan Pérez', 'Calle Mayor 1, Madrid'),\n",
            "(2, 'Ana García', 'Calle Luna 5, Barcelona'),\n",
            "(3, 'Luis Fernández', 'Avenida del Sol 10, Valencia'),\n",
            "(4, 'Laura Sánchez', 'Plaza del Mar 3, Alicante'),\n",
            "(5, 'Carlos López', 'Calle Río 8, Sevilla'),\n",
            "(6, 'Marta Díaz', 'Calle de la Sierra 12, Zaragoza'),\n",
            "(7, 'Pedro Gómez', 'Calle Nueva 20, Bilbao'),\n",
            "(8, 'Lucía Jiménez', 'Calle Real 30, Madrid'),\n",
            "(9, 'María Torres', 'Calle Verde 15, Málaga'),\n",
            "(10, 'Fernando Martín', 'Calle Azul 25, Murcia');]\n",
            "(Background on this error at: https://sqlalche.me/e/20/gkpj)\n"
          ]
        }
      ]
    },
    {
      "cell_type": "markdown",
      "source": [
        "### Resolver estas consignas sin usar JOIN:\n",
        "Estas consirgnas deben resolverse usando lo visto en la clase del lunes 16/09 antes de ver la parte de JOIN. Esto es: subconsultas, etc.\n",
        "1. ¿Qué socios tienen barcos amarrados en un número de amarre mayor que 10?"
      ],
      "metadata": {
        "id": "0ofA3-cklW_5"
      },
      "id": "0ofA3-cklW_5"
    },
    {
      "cell_type": "code",
      "source": [
        "%%sql\n",
        "SELECT s.nombre AS NombreSocio, b.numero_amarre AS NumeroAmarre\n",
        "FROM socios AS s, barcos AS b\n",
        "WHERE s.id_socio = b.id_socio AND b.numero_amarre > 10;\n",
        "\n"
      ],
      "metadata": {
        "id": "Kbdb2-U7lbJo",
        "outputId": "b1bd29cf-4e03-459f-9eb2-ab66d9776526",
        "colab": {
          "base_uri": "https://localhost:8080/",
          "height": 179
        }
      },
      "id": "Kbdb2-U7lbJo",
      "execution_count": null,
      "outputs": [
        {
          "output_type": "stream",
          "name": "stdout",
          "text": [
            " * sqlite:///ejemplos.db\n",
            "Done.\n"
          ]
        },
        {
          "output_type": "execute_result",
          "data": {
            "text/plain": [
              "[('Juan Pérez', 12),\n",
              " ('Luis Fernández', 15),\n",
              " ('Carlos López', 18),\n",
              " ('Marta Díaz', 20),\n",
              " ('María Torres', 14)]"
            ],
            "text/html": [
              "<table>\n",
              "    <thead>\n",
              "        <tr>\n",
              "            <th>NombreSocio</th>\n",
              "            <th>NumeroAmarre</th>\n",
              "        </tr>\n",
              "    </thead>\n",
              "    <tbody>\n",
              "        <tr>\n",
              "            <td>Juan Pérez</td>\n",
              "            <td>12</td>\n",
              "        </tr>\n",
              "        <tr>\n",
              "            <td>Luis Fernández</td>\n",
              "            <td>15</td>\n",
              "        </tr>\n",
              "        <tr>\n",
              "            <td>Carlos López</td>\n",
              "            <td>18</td>\n",
              "        </tr>\n",
              "        <tr>\n",
              "            <td>Marta Díaz</td>\n",
              "            <td>20</td>\n",
              "        </tr>\n",
              "        <tr>\n",
              "            <td>María Torres</td>\n",
              "            <td>14</td>\n",
              "        </tr>\n",
              "    </tbody>\n",
              "</table>"
            ]
          },
          "metadata": {},
          "execution_count": 41
        }
      ]
    },
    {
      "cell_type": "markdown",
      "source": [
        "2. ¿Cuáles son los nombres de los barcos y sus cuotas de aquellos barcos cuyo socio se llama 'Juan Pérez'?"
      ],
      "metadata": {
        "id": "mWRK4z1yl9-X"
      },
      "id": "mWRK4z1yl9-X"
    },
    {
      "cell_type": "code",
      "source": [
        "%%sql\n",
        "SELECT b.nombre AS NombreBarco, b.cuota, s.nombre AS NombreSocio\n",
        "FROM barcos AS b, socios AS s\n",
        "WHERE b.id_socio = s.id_socio AND s.nombre = 'Juan Pérez';\n"
      ],
      "metadata": {
        "id": "cZyf9vCpmE-G",
        "outputId": "fbc8f250-05bf-4a6c-c31d-bf2b33303214",
        "colab": {
          "base_uri": "https://localhost:8080/",
          "height": 95
        }
      },
      "id": "cZyf9vCpmE-G",
      "execution_count": null,
      "outputs": [
        {
          "output_type": "stream",
          "name": "stdout",
          "text": [
            " * sqlite:///ejemplos.db\n",
            "Done.\n"
          ]
        },
        {
          "output_type": "execute_result",
          "data": {
            "text/plain": [
              "[('El Viento', 600.5, 'Juan Pérez')]"
            ],
            "text/html": [
              "<table>\n",
              "    <thead>\n",
              "        <tr>\n",
              "            <th>NombreBarco</th>\n",
              "            <th>cuota</th>\n",
              "            <th>NombreSocio</th>\n",
              "        </tr>\n",
              "    </thead>\n",
              "    <tbody>\n",
              "        <tr>\n",
              "            <td>El Viento</td>\n",
              "            <td>600.5</td>\n",
              "            <td>Juan Pérez</td>\n",
              "        </tr>\n",
              "    </tbody>\n",
              "</table>"
            ]
          },
          "metadata": {},
          "execution_count": 42
        }
      ]
    },
    {
      "cell_type": "markdown",
      "source": [
        "3. ¿Cuántas salidas ha realizado el barco con matrícula 'ABC123'?"
      ],
      "metadata": {
        "id": "pbpnGkeFmPkq"
      },
      "id": "pbpnGkeFmPkq"
    },
    {
      "cell_type": "code",
      "source": [
        "%%sql\n",
        "SELECT salidas.matricula AS MatriculaBarco, COUNT(*) AS TotalSalidas\n",
        "FROM salidas\n",
        "WHERE matricula = 'ABC123';\n"
      ],
      "metadata": {
        "id": "nuj5n3DZmS3N",
        "outputId": "67e6289c-bcd2-43f3-a99f-645af11c206e",
        "colab": {
          "base_uri": "https://localhost:8080/",
          "height": 95
        }
      },
      "id": "nuj5n3DZmS3N",
      "execution_count": null,
      "outputs": [
        {
          "output_type": "stream",
          "name": "stdout",
          "text": [
            " * sqlite:///ejemplos.db\n",
            "Done.\n"
          ]
        },
        {
          "output_type": "execute_result",
          "data": {
            "text/plain": [
              "[('ABC123', 1)]"
            ],
            "text/html": [
              "<table>\n",
              "    <thead>\n",
              "        <tr>\n",
              "            <th>MatriculaBarco</th>\n",
              "            <th>TotalSalidas</th>\n",
              "        </tr>\n",
              "    </thead>\n",
              "    <tbody>\n",
              "        <tr>\n",
              "            <td>ABC123</td>\n",
              "            <td>1</td>\n",
              "        </tr>\n",
              "    </tbody>\n",
              "</table>"
            ]
          },
          "metadata": {},
          "execution_count": 20
        }
      ]
    },
    {
      "cell_type": "markdown",
      "source": [
        "4. Lista los barcos que tienen una cuota mayor a 500 y sus respectivos socios."
      ],
      "metadata": {
        "id": "GgyZ5pjymbXx"
      },
      "id": "GgyZ5pjymbXx"
    },
    {
      "cell_type": "code",
      "source": [
        "%%sql\n",
        "SELECT b.nombre AS NombreBarco, b.cuota AS CuotaBarco, s.nombre AS NombreSocio\n",
        "FROM barcos AS b, socios AS s\n",
        "WHERE b.id_socio = s.id_socio AND b.cuota > 500;\n"
      ],
      "metadata": {
        "id": "szEj8t7WmcpA",
        "outputId": "ae09b0e4-386d-4697-a988-16c5920c39b7",
        "colab": {
          "base_uri": "https://localhost:8080/",
          "height": 221
        }
      },
      "id": "szEj8t7WmcpA",
      "execution_count": null,
      "outputs": [
        {
          "output_type": "stream",
          "name": "stdout",
          "text": [
            " * sqlite:///ejemplos.db\n",
            "Done.\n"
          ]
        },
        {
          "output_type": "execute_result",
          "data": {
            "text/plain": [
              "[('El Viento', 600.5, 'Juan Pérez'),\n",
              " ('El Sol', 700, 'Luis Fernández'),\n",
              " ('El Mar', 550.75, 'Laura Sánchez'),\n",
              " ('La Luna', 620.3, 'Carlos López'),\n",
              " ('El Horizonte', 780.9, 'Marta Díaz'),\n",
              " ('La Estrella', 520.5, 'Lucía Jiménez'),\n",
              " ('El Océano', 630.8, 'Fernando Martín')]"
            ],
            "text/html": [
              "<table>\n",
              "    <thead>\n",
              "        <tr>\n",
              "            <th>NombreBarco</th>\n",
              "            <th>CuotaBarco</th>\n",
              "            <th>NombreSocio</th>\n",
              "        </tr>\n",
              "    </thead>\n",
              "    <tbody>\n",
              "        <tr>\n",
              "            <td>El Viento</td>\n",
              "            <td>600.5</td>\n",
              "            <td>Juan Pérez</td>\n",
              "        </tr>\n",
              "        <tr>\n",
              "            <td>El Sol</td>\n",
              "            <td>700</td>\n",
              "            <td>Luis Fernández</td>\n",
              "        </tr>\n",
              "        <tr>\n",
              "            <td>El Mar</td>\n",
              "            <td>550.75</td>\n",
              "            <td>Laura Sánchez</td>\n",
              "        </tr>\n",
              "        <tr>\n",
              "            <td>La Luna</td>\n",
              "            <td>620.3</td>\n",
              "            <td>Carlos López</td>\n",
              "        </tr>\n",
              "        <tr>\n",
              "            <td>El Horizonte</td>\n",
              "            <td>780.9</td>\n",
              "            <td>Marta Díaz</td>\n",
              "        </tr>\n",
              "        <tr>\n",
              "            <td>La Estrella</td>\n",
              "            <td>520.5</td>\n",
              "            <td>Lucía Jiménez</td>\n",
              "        </tr>\n",
              "        <tr>\n",
              "            <td>El Océano</td>\n",
              "            <td>630.8</td>\n",
              "            <td>Fernando Martín</td>\n",
              "        </tr>\n",
              "    </tbody>\n",
              "</table>"
            ]
          },
          "metadata": {},
          "execution_count": 7
        }
      ]
    },
    {
      "cell_type": "markdown",
      "source": [],
      "metadata": {
        "id": "BuvaT17Xlbe_"
      },
      "id": "BuvaT17Xlbe_"
    },
    {
      "cell_type": "markdown",
      "source": [
        "5. ¿Qué barcos han salido con destino a 'Mallorca'?"
      ],
      "metadata": {
        "id": "pTl4-C4ymjpp"
      },
      "id": "pTl4-C4ymjpp"
    },
    {
      "cell_type": "code",
      "source": [
        "%%sql\n",
        "SELECT b.nombre AS NombreBarco, s.destino AS DestinoBarco\n",
        "FROM barcos AS b, salidas AS s\n",
        "WHERE b.matricula = s.matricula AND s.destino = 'Mallorca';\n"
      ],
      "metadata": {
        "id": "tzlnW9Etmo8L",
        "outputId": "464120ae-b6ef-4bf5-cc3e-6925d10c77e5",
        "colab": {
          "base_uri": "https://localhost:8080/",
          "height": 137
        }
      },
      "id": "tzlnW9Etmo8L",
      "execution_count": null,
      "outputs": [
        {
          "output_type": "stream",
          "name": "stdout",
          "text": [
            " * sqlite:///ejemplos.db\n",
            "Done.\n"
          ]
        },
        {
          "output_type": "execute_result",
          "data": {
            "text/plain": [
              "[('El Viento', 'Mallorca'),\n",
              " ('El Mar', 'Mallorca'),\n",
              " ('El Horizonte', 'Mallorca')]"
            ],
            "text/html": [
              "<table>\n",
              "    <thead>\n",
              "        <tr>\n",
              "            <th>NombreBarco</th>\n",
              "            <th>DestinoBarco</th>\n",
              "        </tr>\n",
              "    </thead>\n",
              "    <tbody>\n",
              "        <tr>\n",
              "            <td>El Viento</td>\n",
              "            <td>Mallorca</td>\n",
              "        </tr>\n",
              "        <tr>\n",
              "            <td>El Mar</td>\n",
              "            <td>Mallorca</td>\n",
              "        </tr>\n",
              "        <tr>\n",
              "            <td>El Horizonte</td>\n",
              "            <td>Mallorca</td>\n",
              "        </tr>\n",
              "    </tbody>\n",
              "</table>"
            ]
          },
          "metadata": {},
          "execution_count": 8
        }
      ]
    },
    {
      "cell_type": "markdown",
      "source": [
        "6. ¿Qué patrones (nombre y dirección) han llevado un barco cuyo socio vive en 'Barcelona'?"
      ],
      "metadata": {
        "id": "GsLPyY6WmtEn"
      },
      "id": "GsLPyY6WmtEn"
    },
    {
      "cell_type": "code",
      "source": [
        "%%sql\n",
        "SELECT s.patron_nombre AS NombrePatron, s.patron_direccion AS DireccionPatron, so.direccion AS DireccionSocio\n",
        "FROM salidas AS s, barcos AS b, socios AS so\n",
        "WHERE s.matricula = b.matricula AND b.id_socio = so.id_socio AND so.direccion LIKE '%Barcelona%';"
      ],
      "metadata": {
        "id": "AZJDPqvbmvOK",
        "outputId": "c3513ad3-1a6d-44c4-e6e0-59fdb0b632b4",
        "colab": {
          "base_uri": "https://localhost:8080/",
          "height": 95
        }
      },
      "id": "AZJDPqvbmvOK",
      "execution_count": null,
      "outputs": [
        {
          "output_type": "stream",
          "name": "stdout",
          "text": [
            " * sqlite:///ejemplos.db\n",
            "Done.\n"
          ]
        },
        {
          "output_type": "execute_result",
          "data": {
            "text/plain": [
              "[('Patrón 2', 'Avenida del Puerto 3, Valencia', 'Calle Luna 5, Barcelona')]"
            ],
            "text/html": [
              "<table>\n",
              "    <thead>\n",
              "        <tr>\n",
              "            <th>NombrePatron</th>\n",
              "            <th>DireccionPatron</th>\n",
              "            <th>DireccionSocio</th>\n",
              "        </tr>\n",
              "    </thead>\n",
              "    <tbody>\n",
              "        <tr>\n",
              "            <td>Patrón 2</td>\n",
              "            <td>Avenida del Puerto 3, Valencia</td>\n",
              "            <td>Calle Luna 5, Barcelona</td>\n",
              "        </tr>\n",
              "    </tbody>\n",
              "</table>"
            ]
          },
          "metadata": {},
          "execution_count": 37
        }
      ]
    },
    {
      "cell_type": "markdown",
      "source": [
        "### Resolver nuevamentos los incisos, pero ahora usa JOIN\n",
        "1. ¿Qué socios tienen barcos amarrados en un número de amarre mayor que 10?"
      ],
      "metadata": {
        "id": "ox9iE2T6j6Qe"
      },
      "id": "ox9iE2T6j6Qe"
    },
    {
      "cell_type": "code",
      "source": [
        "%%sql\n",
        "SELECT s.nombre AS NombreSocio, b.numero_amarre AS NumeroAmarre\n",
        "FROM socios AS s\n",
        "JOIN barcos AS b ON s.id_socio = b.id_socio\n",
        "WHERE b.numero_amarre > 10;\n"
      ],
      "metadata": {
        "id": "GLzT8mCxALp4",
        "outputId": "7b148d5b-059a-4e5f-c32e-972fe9980393",
        "colab": {
          "base_uri": "https://localhost:8080/",
          "height": 179
        }
      },
      "id": "GLzT8mCxALp4",
      "execution_count": null,
      "outputs": [
        {
          "output_type": "stream",
          "name": "stdout",
          "text": [
            " * sqlite:///ejemplos.db\n",
            "Done.\n"
          ]
        },
        {
          "output_type": "execute_result",
          "data": {
            "text/plain": [
              "[('Juan Pérez', 12),\n",
              " ('Luis Fernández', 15),\n",
              " ('Carlos López', 18),\n",
              " ('Marta Díaz', 20),\n",
              " ('María Torres', 14)]"
            ],
            "text/html": [
              "<table>\n",
              "    <thead>\n",
              "        <tr>\n",
              "            <th>NombreSocio</th>\n",
              "            <th>NumeroAmarre</th>\n",
              "        </tr>\n",
              "    </thead>\n",
              "    <tbody>\n",
              "        <tr>\n",
              "            <td>Juan Pérez</td>\n",
              "            <td>12</td>\n",
              "        </tr>\n",
              "        <tr>\n",
              "            <td>Luis Fernández</td>\n",
              "            <td>15</td>\n",
              "        </tr>\n",
              "        <tr>\n",
              "            <td>Carlos López</td>\n",
              "            <td>18</td>\n",
              "        </tr>\n",
              "        <tr>\n",
              "            <td>Marta Díaz</td>\n",
              "            <td>20</td>\n",
              "        </tr>\n",
              "        <tr>\n",
              "            <td>María Torres</td>\n",
              "            <td>14</td>\n",
              "        </tr>\n",
              "    </tbody>\n",
              "</table>"
            ]
          },
          "metadata": {},
          "execution_count": 10
        }
      ]
    },
    {
      "cell_type": "markdown",
      "source": [
        "2. ¿Cuáles son los nombres de los barcos y sus cuotas de aquellos barcos cuyo socio se llama 'Juan Pérez'?"
      ],
      "metadata": {
        "id": "mJJkAhkVAw4N"
      },
      "id": "mJJkAhkVAw4N"
    },
    {
      "cell_type": "code",
      "source": [
        "%%sql\n",
        "SELECT b.nombre AS NombreBarco, b.cuota AS CuotaBarco, s.nombre AS NombreSocio\n",
        "FROM barcos AS b\n",
        "JOIN socios AS s ON b.id_socio = s.id_socio\n",
        "WHERE s.nombre = 'Juan Pérez';\n"
      ],
      "metadata": {
        "id": "PnZz1YO8A-tk",
        "outputId": "0cb06371-e45d-40ee-d59b-d88d47987d7d",
        "colab": {
          "base_uri": "https://localhost:8080/",
          "height": 95
        }
      },
      "id": "PnZz1YO8A-tk",
      "execution_count": null,
      "outputs": [
        {
          "output_type": "stream",
          "name": "stdout",
          "text": [
            " * sqlite:///ejemplos.db\n",
            "Done.\n"
          ]
        },
        {
          "output_type": "execute_result",
          "data": {
            "text/plain": [
              "[('El Viento', 600.5, 'Juan Pérez')]"
            ],
            "text/html": [
              "<table>\n",
              "    <thead>\n",
              "        <tr>\n",
              "            <th>NombreBarco</th>\n",
              "            <th>CuotaBarco</th>\n",
              "            <th>NombreSocio</th>\n",
              "        </tr>\n",
              "    </thead>\n",
              "    <tbody>\n",
              "        <tr>\n",
              "            <td>El Viento</td>\n",
              "            <td>600.5</td>\n",
              "            <td>Juan Pérez</td>\n",
              "        </tr>\n",
              "    </tbody>\n",
              "</table>"
            ]
          },
          "metadata": {},
          "execution_count": 11
        }
      ]
    },
    {
      "cell_type": "markdown",
      "source": [
        "3. ¿Cuántas salidas ha realizado el barco con matrícula 'ABC123'?"
      ],
      "metadata": {
        "id": "yk0e4EqFA2Wi"
      },
      "id": "yk0e4EqFA2Wi"
    },
    {
      "cell_type": "code",
      "source": [
        "%%sql\n",
        "SELECT b.matricula AS MatriculaBarco, COUNT(*) AS TotalSalidas\n",
        "FROM barcos AS b\n",
        "JOIN salidas AS s ON b.matricula = s.matricula\n",
        "WHERE b.matricula = 'ABC123';\n"
      ],
      "metadata": {
        "id": "DnZcgiyAA7IX",
        "outputId": "d0e5dbac-19a2-454b-8564-012ef1766683",
        "colab": {
          "base_uri": "https://localhost:8080/",
          "height": 95
        }
      },
      "id": "DnZcgiyAA7IX",
      "execution_count": null,
      "outputs": [
        {
          "output_type": "stream",
          "name": "stdout",
          "text": [
            " * sqlite:///ejemplos.db\n",
            "Done.\n"
          ]
        },
        {
          "output_type": "execute_result",
          "data": {
            "text/plain": [
              "[('ABC123', 1)]"
            ],
            "text/html": [
              "<table>\n",
              "    <thead>\n",
              "        <tr>\n",
              "            <th>MatriculaBarco</th>\n",
              "            <th>TotalSalidas</th>\n",
              "        </tr>\n",
              "    </thead>\n",
              "    <tbody>\n",
              "        <tr>\n",
              "            <td>ABC123</td>\n",
              "            <td>1</td>\n",
              "        </tr>\n",
              "    </tbody>\n",
              "</table>"
            ]
          },
          "metadata": {},
          "execution_count": 12
        }
      ]
    },
    {
      "cell_type": "markdown",
      "source": [
        "4. Lista los barcos que tienen una cuota mayor a 500 y sus respectivos socios."
      ],
      "metadata": {
        "id": "Qeloyr4lBBNt"
      },
      "id": "Qeloyr4lBBNt"
    },
    {
      "cell_type": "code",
      "source": [
        "%%sql\n",
        "SELECT b.nombre AS NombreBarco, b.cuota AS CuotaBarco, s.nombre AS NombreSocio\n",
        "FROM barcos AS b\n",
        "JOIN socios AS s ON b.id_socio = s.id_socio\n",
        "WHERE b.cuota > 500\n",
        "ORDER BY CuotaBarco DESC;\n"
      ],
      "metadata": {
        "id": "nfsIe3C3BCkR",
        "outputId": "e8aa2fce-fee5-40f8-96b6-280e06b9c5a7",
        "colab": {
          "base_uri": "https://localhost:8080/",
          "height": 221
        }
      },
      "id": "nfsIe3C3BCkR",
      "execution_count": null,
      "outputs": [
        {
          "output_type": "stream",
          "name": "stdout",
          "text": [
            " * sqlite:///ejemplos.db\n",
            "Done.\n"
          ]
        },
        {
          "output_type": "execute_result",
          "data": {
            "text/plain": [
              "[('El Horizonte', 780.9, 'Marta Díaz'),\n",
              " ('El Sol', 700, 'Luis Fernández'),\n",
              " ('El Océano', 630.8, 'Fernando Martín'),\n",
              " ('La Luna', 620.3, 'Carlos López'),\n",
              " ('El Viento', 600.5, 'Juan Pérez'),\n",
              " ('El Mar', 550.75, 'Laura Sánchez'),\n",
              " ('La Estrella', 520.5, 'Lucía Jiménez')]"
            ],
            "text/html": [
              "<table>\n",
              "    <thead>\n",
              "        <tr>\n",
              "            <th>NombreBarco</th>\n",
              "            <th>CuotaBarco</th>\n",
              "            <th>NombreSocio</th>\n",
              "        </tr>\n",
              "    </thead>\n",
              "    <tbody>\n",
              "        <tr>\n",
              "            <td>El Horizonte</td>\n",
              "            <td>780.9</td>\n",
              "            <td>Marta Díaz</td>\n",
              "        </tr>\n",
              "        <tr>\n",
              "            <td>El Sol</td>\n",
              "            <td>700</td>\n",
              "            <td>Luis Fernández</td>\n",
              "        </tr>\n",
              "        <tr>\n",
              "            <td>El Océano</td>\n",
              "            <td>630.8</td>\n",
              "            <td>Fernando Martín</td>\n",
              "        </tr>\n",
              "        <tr>\n",
              "            <td>La Luna</td>\n",
              "            <td>620.3</td>\n",
              "            <td>Carlos López</td>\n",
              "        </tr>\n",
              "        <tr>\n",
              "            <td>El Viento</td>\n",
              "            <td>600.5</td>\n",
              "            <td>Juan Pérez</td>\n",
              "        </tr>\n",
              "        <tr>\n",
              "            <td>El Mar</td>\n",
              "            <td>550.75</td>\n",
              "            <td>Laura Sánchez</td>\n",
              "        </tr>\n",
              "        <tr>\n",
              "            <td>La Estrella</td>\n",
              "            <td>520.5</td>\n",
              "            <td>Lucía Jiménez</td>\n",
              "        </tr>\n",
              "    </tbody>\n",
              "</table>"
            ]
          },
          "metadata": {},
          "execution_count": 13
        }
      ]
    },
    {
      "cell_type": "markdown",
      "source": [
        "5. ¿Qué barcos han salido con destino a 'Mallorca'?"
      ],
      "metadata": {
        "id": "GMqo1KlDBFwm"
      },
      "id": "GMqo1KlDBFwm"
    },
    {
      "cell_type": "code",
      "source": [
        "%%sql\n",
        "SELECT b.nombre AS NombreBarco, s.destino AS DestinoBarco\n",
        "FROM barcos AS b\n",
        "JOIN salidas AS s ON b.matricula = s.matricula\n",
        "WHERE s.destino = 'Mallorca';\n"
      ],
      "metadata": {
        "id": "etjf3fFgBFd-",
        "outputId": "6f318326-dab3-440a-a9d8-2120eeb14f4c",
        "colab": {
          "base_uri": "https://localhost:8080/",
          "height": 137
        }
      },
      "id": "etjf3fFgBFd-",
      "execution_count": null,
      "outputs": [
        {
          "output_type": "stream",
          "name": "stdout",
          "text": [
            " * sqlite:///ejemplos.db\n",
            "Done.\n"
          ]
        },
        {
          "output_type": "execute_result",
          "data": {
            "text/plain": [
              "[('El Viento', 'Mallorca'),\n",
              " ('El Mar', 'Mallorca'),\n",
              " ('El Horizonte', 'Mallorca')]"
            ],
            "text/html": [
              "<table>\n",
              "    <thead>\n",
              "        <tr>\n",
              "            <th>NombreBarco</th>\n",
              "            <th>DestinoBarco</th>\n",
              "        </tr>\n",
              "    </thead>\n",
              "    <tbody>\n",
              "        <tr>\n",
              "            <td>El Viento</td>\n",
              "            <td>Mallorca</td>\n",
              "        </tr>\n",
              "        <tr>\n",
              "            <td>El Mar</td>\n",
              "            <td>Mallorca</td>\n",
              "        </tr>\n",
              "        <tr>\n",
              "            <td>El Horizonte</td>\n",
              "            <td>Mallorca</td>\n",
              "        </tr>\n",
              "    </tbody>\n",
              "</table>"
            ]
          },
          "metadata": {},
          "execution_count": 14
        }
      ]
    },
    {
      "cell_type": "markdown",
      "source": [
        "6. ¿Qué patrones (nombre y dirección) han llevado un barco cuyo socio vive en 'Barcelona'?"
      ],
      "metadata": {
        "id": "4rDZTOCSBJQJ"
      },
      "id": "4rDZTOCSBJQJ"
    },
    {
      "cell_type": "code",
      "source": [
        "%%sql\n",
        "SELECT s.patron_nombre AS NombrePatron, s.patron_direccion AS DireccionPatron, so.direccion AS DireccionSocio\n",
        "FROM salidas AS s\n",
        "JOIN barcos AS b ON s.matricula = b.matricula\n",
        "JOIN socios AS so ON b.id_socio = so.id_socio\n",
        "WHERE so.direccion LIKE '%Barcelona%';\n",
        "\n"
      ],
      "metadata": {
        "id": "s6MRh7hHBKMb",
        "outputId": "93fd422f-f036-4068-8d15-b71428d9d0f9",
        "colab": {
          "base_uri": "https://localhost:8080/",
          "height": 95
        }
      },
      "id": "s6MRh7hHBKMb",
      "execution_count": null,
      "outputs": [
        {
          "output_type": "stream",
          "name": "stdout",
          "text": [
            " * sqlite:///ejemplos.db\n",
            "Done.\n"
          ]
        },
        {
          "output_type": "execute_result",
          "data": {
            "text/plain": [
              "[('Patrón 2', 'Avenida del Puerto 3, Valencia', 'Calle Luna 5, Barcelona')]"
            ],
            "text/html": [
              "<table>\n",
              "    <thead>\n",
              "        <tr>\n",
              "            <th>NombrePatron</th>\n",
              "            <th>DireccionPatron</th>\n",
              "            <th>DireccionSocio</th>\n",
              "        </tr>\n",
              "    </thead>\n",
              "    <tbody>\n",
              "        <tr>\n",
              "            <td>Patrón 2</td>\n",
              "            <td>Avenida del Puerto 3, Valencia</td>\n",
              "            <td>Calle Luna 5, Barcelona</td>\n",
              "        </tr>\n",
              "    </tbody>\n",
              "</table>"
            ]
          },
          "metadata": {},
          "execution_count": 35
        }
      ]
    },
    {
      "cell_type": "markdown",
      "id": "d3111595",
      "metadata": {
        "id": "d3111595"
      },
      "source": [
        "\n",
        "## EJERCICIO 2: Base de datos para un gabinete de abogados\n",
        "\n",
        "### Descripción:\n",
        "Se quiere diseñar una base de datos relacional para almacenar información sobre los asuntos que lleva un gabinete de abogados. Cada asunto tiene un número de expediente que lo identifica y corresponde a un solo cliente. Del asunto se debe almacenar:\n",
        "- Período (fecha de inicio y fecha de archivo o finalización)\n",
        "- Estado (en trámite, archivado, etc.)\n",
        "- Datos personales del cliente (DNI, nombre, dirección, etc.)\n",
        "\n",
        "Algunos asuntos son llevados por uno o varios procuradores, de los que nos interesa también almacenar los datos personales.\n",
        "\n",
        "### Esquema propuesto:\n",
        "- Tabla `Clientes`: Almacena la información de los clientes: dni (clave primaria), nombre y dirección.\n",
        "- Tabla `Asuntos`: Almacena la información de los asuntos: numero de expediente (clave primaria), dni del cliente (clave externa), fecha de inicio, fecha de fin y estado (Abierto o Cerrado). Si el asunto está abierto, no tiene fecha de fin.\n",
        "- Tabla `Procuradores`: Almacena la información de los procuradores: id del procurador (clave priaria), nombre y dirección.\n",
        "- Tabla `Asuntos_Procuradores`: Relaciona los asuntos con los procuradores (muchos a muchos).\n",
        "\n",
        "### SQL para crear las tablas:\n"
      ]
    },
    {
      "cell_type": "code",
      "source": [
        "%%sql\n",
        "CREATE TABLE Clientes (\n",
        "  dni VARCHAR(20),\n",
        "  nombre VARCHAR(100),\n",
        "  direccion VARCHAR(255),\n",
        "  PRIMARY KEY (dni)\n",
        ");\n",
        "\n",
        "CREATE TABLE Asuntos (\n",
        "  numero_expediente INT,\n",
        "  dni_cliente VARCHAR(20),\n",
        "  fecha_inicio DATE,\n",
        "  fecha_fin DATE,\n",
        "  estado VARCHAR(20),\n",
        "  PRIMARY KEY (numero_expediente),\n",
        "  FOREIGN KEY (dni_cliente) REFERENCES Clientes\n",
        ");\n",
        "\n",
        "CREATE TABLE Procuradores (\n",
        "  id_procurador INT,\n",
        "  nombre VARCHAR(100),\n",
        "  direccion VARCHAR(255),\n",
        "  PRIMARY KEY (id_procurador)\n",
        ");\n",
        "\n",
        "CREATE TABLE Asuntos_Procuradores (\n",
        "  numero_expediente INT,\n",
        "  id_procurador INT,\n",
        "  FOREIGN KEY (numero_expediente) REFERENCES Asuntos,\n",
        "  FOREIGN KEY (id_procurador) REFERENCES Procuradores\n",
        ");\n"
      ],
      "metadata": {
        "id": "QtKIwysZeNtz",
        "outputId": "70bb4b0b-3dce-4a9f-86c4-0b3b16d05b12",
        "colab": {
          "base_uri": "https://localhost:8080/"
        }
      },
      "id": "QtKIwysZeNtz",
      "execution_count": null,
      "outputs": [
        {
          "output_type": "stream",
          "name": "stdout",
          "text": [
            " * sqlite:///ejemplos.db\n",
            "Done.\n",
            "Done.\n",
            "Done.\n",
            "Done.\n"
          ]
        },
        {
          "output_type": "execute_result",
          "data": {
            "text/plain": [
              "[]"
            ]
          },
          "metadata": {},
          "execution_count": 24
        }
      ]
    },
    {
      "cell_type": "markdown",
      "source": [],
      "metadata": {
        "id": "Yhom8Hjlesap"
      },
      "id": "Yhom8Hjlesap"
    },
    {
      "cell_type": "code",
      "source": [
        "%%sql\n",
        "-- Poblar la tabla Clientes\n",
        "INSERT INTO Clientes (dni, nombre, direccion)\n",
        "VALUES\n",
        "('123456789', 'Juan Pérez', 'Calle Pueyrredón 3498, Buenos Aires'),\n",
        "('987654321', 'Ana García', 'Calle 5 323, La Plata'),\n",
        "('456123789', 'Luis Fernández', 'Avenida de Gral. Paz 1056, Bahía Blanca'),\n",
        "('321654987', 'María López', 'Calle San Martín 450, Córdoba'),\n",
        "('159753486', 'Pedro Gómez', 'Calle Las Heras 1200, Rosario'),\n",
        "('753951852', 'Cecilia Torres', 'Avenida Corrientes 2435, Buenos Aires'),\n",
        "('789456123', 'Roberto Ramírez', 'Calle Independencia 789, Mendoza');\n",
        "\n",
        "-- Poblar la tabla Asuntos\n",
        "INSERT INTO Asuntos (numero_expediente, dni_cliente, fecha_inicio, fecha_fin, estado)\n",
        "VALUES\n",
        "(1, '123456789', '2023-01-15', '2023-07-20', 'Cerrado'),\n",
        "(2, '987654321', '2023-05-10', NULL, 'Abierto'),\n",
        "(3, '456123789', '2023-06-01', '2023-09-10', 'Cerrado'),\n",
        "(4, '321654987', '2023-02-10', '2023-08-15', 'Cerrado'),\n",
        "(5, '159753486', '2023-03-25', NULL, 'Abierto'),\n",
        "(6, '753951852', '2023-04-05', '2023-06-30', 'Cerrado'),\n",
        "(7, '789456123', '2023-07-12', NULL, 'Abierto');\n",
        "\n",
        "-- Poblar la tabla Procuradores\n",
        "INSERT INTO Procuradores (id_procurador, nombre, direccion)\n",
        "VALUES\n",
        "(1, 'Laura Sánchez', 'Calle Soler 3765, Buenos Aires'),\n",
        "(2, 'Carlos López', 'Calle Estrellas 8, Mar del Plata'),\n",
        "(3, 'Marta Díaz', 'Calle Estación 12, Olavarria'),\n",
        "(4, 'Fernando Pérez', 'Calle Moreno 456, Córdoba'),\n",
        "(5, 'Sofía Giménez', 'Avenida Belgrano 1500, Buenos Aires'),\n",
        "(6, 'Diego Martínez', 'Calle Alem 3030, Mar del Plata');\n",
        "-- Poblar la tabla Asuntos_Procuradores\n",
        "INSERT INTO Asuntos_Procuradores (numero_expediente, id_procurador)\n",
        "VALUES\n",
        "(1, 1),\n",
        "(2, 2),\n",
        "(3, 3),\n",
        "(2, 1),\n",
        "(4, 4),\n",
        "(5, 5),\n",
        "(6, 6),\n",
        "(7, 4),  -- Este procurador maneja también el asunto 7\n",
        "(6, 1);  -- Un asunto puede tener varios procuradores"
      ],
      "metadata": {
        "id": "5o4a19qHetVz",
        "outputId": "0098d07a-c74b-401a-8278-e62b198f0eec",
        "colab": {
          "base_uri": "https://localhost:8080/"
        }
      },
      "id": "5o4a19qHetVz",
      "execution_count": null,
      "outputs": [
        {
          "output_type": "stream",
          "name": "stdout",
          "text": [
            " * sqlite:///ejemplos.db\n",
            "7 rows affected.\n",
            "7 rows affected.\n",
            "6 rows affected.\n",
            "9 rows affected.\n"
          ]
        },
        {
          "output_type": "execute_result",
          "data": {
            "text/plain": [
              "[]"
            ]
          },
          "metadata": {},
          "execution_count": 25
        }
      ]
    },
    {
      "cell_type": "markdown",
      "source": [
        "### Resolver estas consignas usando _únicamente_ JOIN en las consultas:\n",
        "1. ¿Cuál es el nombre y la dirección de los procuradores que han trabajado en un asunto abierto?"
      ],
      "metadata": {
        "id": "OvOaPQYTgkBJ"
      },
      "id": "OvOaPQYTgkBJ"
    },
    {
      "cell_type": "code",
      "source": [
        "%%sql\n",
        "SELECT p.nombre AS NombreProcurador, p.direccion AS DireccionProcurador\n",
        "FROM procuradores AS p\n",
        "JOIN asuntos_procuradores AS ap ON p.id_procurador = ap.id_procurador\n",
        "JOIN asuntos AS a ON ap.numero_expediente = a.numero_expediente\n",
        "WHERE a.estado = 'Abierto';\n"
      ],
      "metadata": {
        "id": "ZO891c6ZgrZm",
        "outputId": "a41dfed7-e1f6-4563-b019-8271e2bda982",
        "colab": {
          "base_uri": "https://localhost:8080/",
          "height": 158
        }
      },
      "id": "ZO891c6ZgrZm",
      "execution_count": null,
      "outputs": [
        {
          "output_type": "stream",
          "name": "stdout",
          "text": [
            " * sqlite:///ejemplos.db\n",
            "Done.\n"
          ]
        },
        {
          "output_type": "execute_result",
          "data": {
            "text/plain": [
              "[('Carlos López', 'Calle Estrellas 8, Mar del Plata'),\n",
              " ('Laura Sánchez', 'Calle Soler 3765, Buenos Aires'),\n",
              " ('Sofía Giménez', 'Avenida Belgrano 1500, Buenos Aires'),\n",
              " ('Fernando Pérez', 'Calle Moreno 456, Córdoba')]"
            ],
            "text/html": [
              "<table>\n",
              "    <thead>\n",
              "        <tr>\n",
              "            <th>NombreProcurador</th>\n",
              "            <th>DireccionProcurador</th>\n",
              "        </tr>\n",
              "    </thead>\n",
              "    <tbody>\n",
              "        <tr>\n",
              "            <td>Carlos López</td>\n",
              "            <td>Calle Estrellas 8, Mar del Plata</td>\n",
              "        </tr>\n",
              "        <tr>\n",
              "            <td>Laura Sánchez</td>\n",
              "            <td>Calle Soler 3765, Buenos Aires</td>\n",
              "        </tr>\n",
              "        <tr>\n",
              "            <td>Sofía Giménez</td>\n",
              "            <td>Avenida Belgrano 1500, Buenos Aires</td>\n",
              "        </tr>\n",
              "        <tr>\n",
              "            <td>Fernando Pérez</td>\n",
              "            <td>Calle Moreno 456, Córdoba</td>\n",
              "        </tr>\n",
              "    </tbody>\n",
              "</table>"
            ]
          },
          "metadata": {},
          "execution_count": 26
        }
      ]
    },
    {
      "cell_type": "markdown",
      "source": [
        "2. ¿Qué clientes han tenido asuntos en los que ha participado el procurador Carlos López?"
      ],
      "metadata": {
        "id": "Y5qojbXWg9mh"
      },
      "id": "Y5qojbXWg9mh"
    },
    {
      "cell_type": "code",
      "source": [
        "%%sql\n",
        "SELECT c.nombre AS NombreCliente, c.direccion AS DireccionCliente, p.nombre AS NombreProcurador\n",
        "FROM clientes AS c\n",
        "JOIN asuntos AS a ON c.dni = a.dni_cliente\n",
        "JOIN asuntos_procuradores AS ap ON a.numero_expediente = ap.numero_expediente\n",
        "JOIN procuradores AS p ON ap.id_procurador = p.id_procurador\n",
        "WHERE p.nombre = 'Carlos López';\n",
        "\n",
        "\n"
      ],
      "metadata": {
        "id": "JlQjPghDhBrj",
        "outputId": "afb1a58c-6ffb-4c62-f0a9-8d955d8d1194",
        "colab": {
          "base_uri": "https://localhost:8080/",
          "height": 95
        }
      },
      "id": "JlQjPghDhBrj",
      "execution_count": null,
      "outputs": [
        {
          "output_type": "stream",
          "name": "stdout",
          "text": [
            " * sqlite:///ejemplos.db\n",
            "Done.\n"
          ]
        },
        {
          "output_type": "execute_result",
          "data": {
            "text/plain": [
              "[('Ana García', 'Calle 5 323, La Plata', 'Carlos López')]"
            ],
            "text/html": [
              "<table>\n",
              "    <thead>\n",
              "        <tr>\n",
              "            <th>NombreCliente</th>\n",
              "            <th>DireccionCliente</th>\n",
              "            <th>NombreProcurador</th>\n",
              "        </tr>\n",
              "    </thead>\n",
              "    <tbody>\n",
              "        <tr>\n",
              "            <td>Ana García</td>\n",
              "            <td>Calle 5 323, La Plata</td>\n",
              "            <td>Carlos López</td>\n",
              "        </tr>\n",
              "    </tbody>\n",
              "</table>"
            ]
          },
          "metadata": {},
          "execution_count": 31
        }
      ]
    },
    {
      "cell_type": "markdown",
      "source": [
        "3. ¿Cuántos asuntos ha gestionado cada procurador?"
      ],
      "metadata": {
        "id": "1NfxB7M6hKsX"
      },
      "id": "1NfxB7M6hKsX"
    },
    {
      "cell_type": "code",
      "source": [
        "%%sql\n",
        "SELECT p.nombre AS NombreProcurador, COUNT(ap.numero_expediente) AS TotalAsuntos\n",
        "FROM procuradores AS p\n",
        "LEFT JOIN asuntos_procuradores AS ap ON p.id_procurador = ap.id_procurador\n",
        "GROUP BY NombreProcurador\n",
        "ORDER BY TotalAsuntos DESC;\n"
      ],
      "metadata": {
        "id": "kZHFCFX0hS5-",
        "outputId": "f6f02160-4f61-457f-ea51-a3ee13a098be",
        "colab": {
          "base_uri": "https://localhost:8080/",
          "height": 200
        }
      },
      "id": "kZHFCFX0hS5-",
      "execution_count": null,
      "outputs": [
        {
          "output_type": "stream",
          "name": "stdout",
          "text": [
            " * sqlite:///ejemplos.db\n",
            "Done.\n"
          ]
        },
        {
          "output_type": "execute_result",
          "data": {
            "text/plain": [
              "[('Laura Sánchez', 3),\n",
              " ('Fernando Pérez', 2),\n",
              " ('Sofía Giménez', 1),\n",
              " ('Marta Díaz', 1),\n",
              " ('Diego Martínez', 1),\n",
              " ('Carlos López', 1)]"
            ],
            "text/html": [
              "<table>\n",
              "    <thead>\n",
              "        <tr>\n",
              "            <th>NombreProcurador</th>\n",
              "            <th>TotalAsuntos</th>\n",
              "        </tr>\n",
              "    </thead>\n",
              "    <tbody>\n",
              "        <tr>\n",
              "            <td>Laura Sánchez</td>\n",
              "            <td>3</td>\n",
              "        </tr>\n",
              "        <tr>\n",
              "            <td>Fernando Pérez</td>\n",
              "            <td>2</td>\n",
              "        </tr>\n",
              "        <tr>\n",
              "            <td>Sofía Giménez</td>\n",
              "            <td>1</td>\n",
              "        </tr>\n",
              "        <tr>\n",
              "            <td>Marta Díaz</td>\n",
              "            <td>1</td>\n",
              "        </tr>\n",
              "        <tr>\n",
              "            <td>Diego Martínez</td>\n",
              "            <td>1</td>\n",
              "        </tr>\n",
              "        <tr>\n",
              "            <td>Carlos López</td>\n",
              "            <td>1</td>\n",
              "        </tr>\n",
              "    </tbody>\n",
              "</table>"
            ]
          },
          "metadata": {},
          "execution_count": 28
        }
      ]
    },
    {
      "cell_type": "markdown",
      "source": [
        "4. Lista los números de expediente y fechas de inicio de los asuntos de los clientes que viven en Buenos Aires."
      ],
      "metadata": {
        "id": "zHUFuerKhjc2"
      },
      "id": "zHUFuerKhjc2"
    },
    {
      "cell_type": "code",
      "source": [
        "%%sql\n",
        "SELECT a.numero_expediente AS NumeroExpediente, a.fecha_inicio AS fecha_inicio, c.direccion AS DireccionCliente\n",
        "FROM asuntos AS a\n",
        "JOIN clientes AS c ON a.dni_cliente = c.dni\n",
        "WHERE c.direccion LIKE \"%Buenos Aires%\""
      ],
      "metadata": {
        "id": "9RDQt_5lipod",
        "outputId": "795e910d-8204-4d97-8ddf-68292174b4c7",
        "colab": {
          "base_uri": "https://localhost:8080/",
          "height": 116
        }
      },
      "id": "9RDQt_5lipod",
      "execution_count": null,
      "outputs": [
        {
          "output_type": "stream",
          "name": "stdout",
          "text": [
            " * sqlite:///ejemplos.db\n",
            "Done.\n"
          ]
        },
        {
          "output_type": "execute_result",
          "data": {
            "text/plain": [
              "[(1, '2023-01-15', 'Calle Pueyrredón 3498, Buenos Aires'),\n",
              " (6, '2023-04-05', 'Avenida Corrientes 2435, Buenos Aires')]"
            ],
            "text/html": [
              "<table>\n",
              "    <thead>\n",
              "        <tr>\n",
              "            <th>NumeroExpediente</th>\n",
              "            <th>fecha_inicio</th>\n",
              "            <th>DireccionCliente</th>\n",
              "        </tr>\n",
              "    </thead>\n",
              "    <tbody>\n",
              "        <tr>\n",
              "            <td>1</td>\n",
              "            <td>2023-01-15</td>\n",
              "            <td>Calle Pueyrredón 3498, Buenos Aires</td>\n",
              "        </tr>\n",
              "        <tr>\n",
              "            <td>6</td>\n",
              "            <td>2023-04-05</td>\n",
              "            <td>Avenida Corrientes 2435, Buenos Aires</td>\n",
              "        </tr>\n",
              "    </tbody>\n",
              "</table>"
            ]
          },
          "metadata": {},
          "execution_count": 34
        }
      ]
    },
    {
      "cell_type": "markdown",
      "source": [
        "# Entrega\n",
        "La entrega consiste en completar esta hoja y subirla a su repositorio GIT\n",
        "Se deben entregar también los diagramas de esquema de tablas como imagenes aparte.\n",
        "Fecha límite: 30 de septiembre a las 23:59 hs"
      ],
      "metadata": {
        "id": "aIF74m2eV9J9"
      },
      "id": "aIF74m2eV9J9"
    }
  ],
  "metadata": {
    "colab": {
      "provenance": []
    },
    "language_info": {
      "name": "python"
    },
    "kernelspec": {
      "name": "python3",
      "display_name": "Python 3"
    }
  },
  "nbformat": 4,
  "nbformat_minor": 5
}